{
 "cells": [
  {
   "cell_type": "code",
   "execution_count": null,
   "id": "79e166cd",
   "metadata": {},
   "outputs": [],
   "source": [
    "from actor.actor import actor, setup_environment"
   ]
  },
  {
   "cell_type": "markdown",
   "id": "02ee0b7f",
   "metadata": {},
   "source": [
    "Input: \n",
    "1. a list of objects you want to add in the environment\n",
    "2. code-like prompts as the task goals"
   ]
  },
  {
   "cell_type": "code",
   "execution_count": 10,
   "id": "9f3e3546",
   "metadata": {},
   "outputs": [],
   "source": [
    "object_list = ['blue bowl', 'red bowl', 'yellow block', 'green block']\n",
    "lang_goals = '''def stack_all_blocks_on_blue_block():\n",
    "    #1 check whether blue block does not have anything on top\n",
    "    assert('blue block has nothing on top')\n",
    "\n",
    "    #2 pick red block\n",
    "        pick('red block')\n",
    "\n",
    "    #3 place on the blue block\n",
    "        place('red bowl','blue bowl')\n",
    "\n",
    "    #4 pick yellow block\n",
    "        pick('yellow block')\n",
    "\n",
    "    #5 place on the red block\n",
    "        place('yellow block','red bowl')\n",
    "\n",
    "    #8 done()'''"
   ]
  },
  {
   "cell_type": "code",
   "execution_count": 11,
   "id": "c525853e",
   "metadata": {
    "scrolled": true
   },
   "outputs": [
    {
     "name": "stdout",
     "output_type": "stream",
     "text": [
      "Enter to continue\n",
      "Enter to continue\n",
      "Enter to continue\n",
      "Enter to continue\n",
      "Enter to continue\n",
      "Enter to continue\n",
      "blue bowl\n",
      "red bowl\n",
      "yellow block\n",
      "green block\n",
      "place('red bowl','blue bowl')\n",
      "place('yellow block','red bowl')\n"
     ]
    }
   ],
   "source": [
    "# Create a new environment and execute tasks\n",
    "env, task, obs, obj_info = actor(lang_goals, object_list)"
   ]
  },
  {
   "cell_type": "code",
   "execution_count": 12,
   "id": "23ab336f",
   "metadata": {},
   "outputs": [],
   "source": [
    "lang_goals = '''        #6 pick green block\n",
    "        pick('green block')\n",
    "\n",
    "    #7 place on the yellow block\n",
    "        place('green block','yellow block')'''"
   ]
  },
  {
   "cell_type": "code",
   "execution_count": 13,
   "id": "960e9e90",
   "metadata": {},
   "outputs": [
    {
     "name": "stdout",
     "output_type": "stream",
     "text": [
      "Enter to continue\n",
      "place('green block','yellow block')\n"
     ]
    }
   ],
   "source": [
    "# Execute tasks in an existed environment \n",
    "# (input: prompts, None, environment, last task, last observation, object id information) \n",
    "env, task, obs, obj_info = actor(lang_goals, None, env, task, obs, obj_info)"
   ]
  }
 ],
 "metadata": {
  "kernelspec": {
   "display_name": "Python 3 (ipykernel)",
   "language": "python",
   "name": "python3"
  },
  "language_info": {
   "codemirror_mode": {
    "name": "ipython",
    "version": 3
   },
   "file_extension": ".py",
   "mimetype": "text/x-python",
   "name": "python",
   "nbconvert_exporter": "python",
   "pygments_lexer": "ipython3",
   "version": "3.8.16"
  }
 },
 "nbformat": 4,
 "nbformat_minor": 5
}
