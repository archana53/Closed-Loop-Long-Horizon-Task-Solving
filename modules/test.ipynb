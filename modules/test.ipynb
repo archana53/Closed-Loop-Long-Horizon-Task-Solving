{
 "cells": [
  {
   "cell_type": "code",
   "execution_count": 1,
   "id": "79e166cd",
   "metadata": {},
   "outputs": [],
   "source": [
    "from actor.actor import actor, setup_environment"
   ]
  },
  {
   "cell_type": "markdown",
   "id": "02ee0b7f",
   "metadata": {},
   "source": [
    "Input: \n",
    "1. a list of objects you want to add in the environment\n",
    "2. code-like prompts as the task goals"
   ]
  },
  {
   "cell_type": "code",
   "execution_count": 2,
   "id": "9f3e3546",
   "metadata": {},
   "outputs": [],
   "source": [
    "# object_list = ['blue block', 'red block', 'yellow block', 'green block']\n",
    "# lang_goals = '''def stack_all_blocks_on_blue_block():\n",
    "#     #1 check whether blue block does not have anything on top\n",
    "#     assert('blue block has nothing on top')\n",
    "\n",
    "#     #2 pick red block\n",
    "#         pick('red block')\n",
    "\n",
    "#     #3 place on the blue block\n",
    "#         place('red block','blue block')\n",
    "\n",
    "#     #4 pick yellow block\n",
    "#         pick('yellow block')\n",
    "\n",
    "#     #5 place on the red block\n",
    "#         place('yellow block','red block')\n",
    "\n",
    "#     #8 done()'''\n",
    "objects = [\"red block\", \"blue block\", \"yellow block\", \"red bowl\",\"blue bowl\",\"yellow bowl\"]\n",
    "lang = '''\n",
    "def place_all_blocks_in_their_respective_color_bowls():\n",
    "        #1 Iterate over all objects\n",
    "            for obj in objects:\n",
    "              #1.1 check if it is a block\n",
    "              if('block' in obj):\n",
    "                #1.2 pick the block\n",
    "                pick(obj)\n",
    "                #1.3 place it in its respective color bowl\n",
    "                place(obj, obj.replace('block','bowl'))\n",
    "        #2 done()\n",
    "'''"
   ]
  },
  {
   "cell_type": "code",
   "execution_count": 3,
   "id": "8eb9040d",
   "metadata": {},
   "outputs": [],
   "source": [
    "# for obj in objects:\n",
    "#   #1.1 check if it is a block\n",
    "#   if('block' in obj):\n",
    "#     #1.2 pick the block\n",
    "#     lang_goals += 'pick(\\'{}\\')\\n'.format(obj)\n",
    "#     #1.3 place it in its respective color bowl\n",
    "#     lang_goals += 'place(\\'{}\\',\\'{}\\')\\n'.format(obj, obj.replace('block','bowl'))\n",
    "# print(lang_goals)"
   ]
  },
  {
   "cell_type": "code",
   "execution_count": 4,
   "id": "673a81e6",
   "metadata": {},
   "outputs": [],
   "source": [
    "lang_goals = ''\n",
    "exec_name = lang.splitlines()[1][4:-1]"
   ]
  },
  {
   "cell_type": "code",
   "execution_count": 5,
   "id": "61d802e2",
   "metadata": {},
   "outputs": [],
   "source": [
    "def pick(obj):\n",
    "    global lang_goals\n",
    "    lang_goals += 'pick(\\'{}\\')\\n'.format(obj)\n",
    "def place(obj1, obj2):\n",
    "    global lang_goals\n",
    "    lang_goals += 'place(\\'{}\\',\\'{}\\')\\n'.format(obj1, obj2)"
   ]
  },
  {
   "cell_type": "code",
   "execution_count": 6,
   "id": "e4136496",
   "metadata": {},
   "outputs": [
    {
     "name": "stdout",
     "output_type": "stream",
     "text": [
      "pick('red block')\n",
      "place('red block','red bowl')\n",
      "pick('blue block')\n",
      "place('blue block','blue bowl')\n",
      "pick('yellow block')\n",
      "place('yellow block','yellow bowl')\n",
      "\n"
     ]
    }
   ],
   "source": [
    "exec(lang)\n",
    "exec(exec_name)\n",
    "print(lang_goals)"
   ]
  },
  {
   "cell_type": "code",
   "execution_count": null,
   "id": "c525853e",
   "metadata": {
    "scrolled": true
   },
   "outputs": [
    {
     "name": "stdout",
     "output_type": "stream",
     "text": [
      "red block\n"
     ]
    }
   ],
   "source": [
    "# Create a new environment and execute tasks\n",
    "env, task, obs, obj_info = actor(lang_goals, object_list=objects, disp=False)"
   ]
  },
  {
   "cell_type": "code",
   "execution_count": null,
   "id": "960e9e90",
   "metadata": {},
   "outputs": [],
   "source": [
    "# lang_goals = '''        #6 pick green block\n",
    "#         pick('green block')\n",
    "\n",
    "#     #7 place on the yellow block\n",
    "#         place('green block','blue block')'''\n",
    "\n",
    "# Execute tasks in an existed environment \n",
    "# (input: prompts, None, environment, last task, last observation, object id information) \n",
    "# env, task, obs, obj_info = actor(lang_goals, None, env, task, obs, obj_info)"
   ]
  }
 ],
 "metadata": {
  "kernelspec": {
   "display_name": "Python 3 (ipykernel)",
   "language": "python",
   "name": "python3"
  },
  "language_info": {
   "codemirror_mode": {
    "name": "ipython",
    "version": 3
   },
   "file_extension": ".py",
   "mimetype": "text/x-python",
   "name": "python",
   "nbconvert_exporter": "python",
   "pygments_lexer": "ipython3",
   "version": "3.8.16"
  }
 },
 "nbformat": 4,
 "nbformat_minor": 5
}
